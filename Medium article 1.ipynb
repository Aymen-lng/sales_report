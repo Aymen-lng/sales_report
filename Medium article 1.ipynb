{
 "cells": [
  {
   "cell_type": "code",
   "execution_count": 1,
   "metadata": {},
   "outputs": [],
   "source": [
    "import os # to navigate into the computer\n",
    "import pandas as pd # to maniputale data\n",
    "import datetime as dt # to get the year and quarter from invoice date\n",
    "import xlwings as xw # to interact with Excel\n",
    "import re #to match Excel cells column and row references in a function we will use later"
   ]
  },
  {
   "cell_type": "code",
   "execution_count": 2,
   "metadata": {},
   "outputs": [],
   "source": [
    "# Navigate into the folder were the data set is. Create a variable with the Data and put it into a data frame\n",
    "os.chdir(r'/Users/aymenbaraket/Downloads')\n",
    "Data_Base='data.csv'\n",
    "df = pd.read_csv(Data_Base,encoding= 'unicode_escape')"
   ]
  },
  {
   "cell_type": "code",
   "execution_count": 3,
   "metadata": {},
   "outputs": [
    {
     "name": "stderr",
     "output_type": "stream",
     "text": [
      "/Users/aymenbaraket/opt/anaconda3/lib/python3.7/site-packages/ipykernel_launcher.py:10: UserWarning: Pandas doesn't allow columns to be created via a new attribute name - see https://pandas.pydata.org/pandas-docs/stable/indexing.html#attribute-access\n",
      "  # Remove the CWD from sys.path while we load stuff.\n"
     ]
    }
   ],
   "source": [
    "# Add column revenue \n",
    "df['revenue']=df['Quantity']*df['UnitPrice']\n",
    "#Create a list month and isolate the first value of the invoice date to get the month\n",
    "Month = df[\"InvoiceDate\"].values\n",
    "Month = [my_str.split(\"/\")[0] for my_str in Month]\n",
    "df[\"Month\"] = Month\n",
    "# Add column Year\n",
    "df['year'] = pd.DatetimeIndex(df['InvoiceDate']).year\n",
    "#Add column Quarter\n",
    "df.date = pd.to_datetime(df.InvoiceDate) \n",
    "df['quarter'] = df.date.dt.quarter"
   ]
  },
  {
   "cell_type": "code",
   "execution_count": 4,
   "metadata": {},
   "outputs": [],
   "source": [
    "# open the excel file, select the tab and the PivotTable to refresh\n",
    "wb = xw.Book(r\"/Users/aymenbaraket/Downloads/Dashboard.xlsb\")\n",
    "sheet = wb.sheets('DataBase')  #Name of sheet where to append df"
   ]
  },
  {
   "cell_type": "code",
   "execution_count": 5,
   "metadata": {},
   "outputs": [],
   "source": [
    "#Function to dump the data frame in order to avoid a time out error.\n",
    "def dumpLargeDf(sheet, df, startcell='A1', chunk_size=50000):\n",
    "    # Dumps a large DataFrame in Excel via xlwings. Takes care of header.\n",
    "    if len(df) <= (chunk_size + 1):\n",
    "        sheet.range(startcell).options(index=False).value = df\n",
    "    else:                                       # Chunk df and and dump each\n",
    "        c = re.match(r\"([a-z]+)([0-9]+)\", startcell, re.I)      # A1\n",
    "        row = c.group(1)                                        # A\n",
    "        col = int(c.group(2))                                   # 1\n",
    "        useHeader = True\n",
    "        for chunk in (df[rw:rw + chunk_size] for rw in\n",
    "                      range(0, len(df), chunk_size)):\n",
    "            print(\"Dumping chunk in %s%s\" % (row, col))\n",
    "            sheet.range(row + str(col)) \\\n",
    "                .options(index=False, header=useHeader).value = chunk\n",
    "            useHeader = False\n",
    "            col += chunk_size"
   ]
  },
  {
   "cell_type": "code",
   "execution_count": 6,
   "metadata": {},
   "outputs": [
    {
     "name": "stdout",
     "output_type": "stream",
     "text": [
      "Dumping chunk in A1\n",
      "Dumping chunk in A50001\n",
      "Dumping chunk in A100001\n",
      "Dumping chunk in A150001\n",
      "Dumping chunk in A200001\n",
      "Dumping chunk in A250001\n",
      "Dumping chunk in A300001\n",
      "Dumping chunk in A350001\n",
      "Dumping chunk in A400001\n",
      "Dumping chunk in A450001\n",
      "Dumping chunk in A500001\n"
     ]
    }
   ],
   "source": [
    "dumpLargeDf(sheet,df)"
   ]
  },
  {
   "cell_type": "code",
   "execution_count": 9,
   "metadata": {},
   "outputs": [],
   "source": [
    "app = wb.app"
   ]
  },
  {
   "cell_type": "code",
   "execution_count": 10,
   "metadata": {},
   "outputs": [
    {
     "data": {
      "text/plain": [
       "''"
      ]
     },
     "execution_count": 10,
     "metadata": {},
     "output_type": "execute_result"
    }
   ],
   "source": [
    "macro_vba = app.macro(\"'Dashboard.XLSB'!refresh\") \n",
    "macro_vba()"
   ]
  },
  {
   "cell_type": "code",
   "execution_count": 11,
   "metadata": {},
   "outputs": [],
   "source": [
    "wb.save()\n",
    "app = xw.apps.active \n",
    "app.quit()\n"
   ]
  },
  {
   "cell_type": "code",
   "execution_count": 1,
   "metadata": {},
   "outputs": [],
   "source": [
    "# Import the library in your Jupyter notebook\n",
    "import jovian"
   ]
  },
  {
   "cell_type": "code",
   "execution_count": 2,
   "metadata": {},
   "outputs": [
    {
     "data": {
      "application/javascript": [
       "window.require && require([\"base/js/namespace\"],function(Jupyter){Jupyter.notebook.save_checkpoint()})"
      ],
      "text/plain": [
       "<IPython.core.display.Javascript object>"
      ]
     },
     "metadata": {},
     "output_type": "display_data"
    },
    {
     "name": "stdout",
     "output_type": "stream",
     "text": [
      "[jovian] Attempting to save notebook..\n",
      "[jovian] Please enter your API key ( from https://jovian.ai/ ):\n",
      "API KEY: ········\n",
      "[jovian] Uploading notebook..\n",
      "[jovian] Capturing environment..\n",
      "[jovian] Committed successfully! https://jovian.ai/aymen-lng/medium-article-1\n"
     ]
    },
    {
     "data": {
      "text/plain": [
       "'https://jovian.ai/aymen-lng/medium-article-1'"
      ]
     },
     "execution_count": 2,
     "metadata": {},
     "output_type": "execute_result"
    }
   ],
   "source": [
    "# Upload your notebook & get a sharing link with a single command\n",
    "jovian.commit()"
   ]
  },
  {
   "cell_type": "code",
   "execution_count": null,
   "metadata": {},
   "outputs": [],
   "source": []
  }
 ],
 "metadata": {
  "kernelspec": {
   "display_name": "Python 3",
   "language": "python",
   "name": "python3"
  },
  "language_info": {
   "codemirror_mode": {
    "name": "ipython",
    "version": 3
   },
   "file_extension": ".py",
   "mimetype": "text/x-python",
   "name": "python",
   "nbconvert_exporter": "python",
   "pygments_lexer": "ipython3",
   "version": "3.7.6"
  }
 },
 "nbformat": 4,
 "nbformat_minor": 4
}
